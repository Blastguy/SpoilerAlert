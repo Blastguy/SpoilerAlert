{
 "cells": [
  {
   "cell_type": "code",
   "execution_count": 1,
   "metadata": {
    "id": "o1OL3mufGtSn"
   },
   "outputs": [],
   "source": [
    "import pandas as pd\n",
    "import numpy as np\n",
    "import seaborn as sns\n",
    "import matplotlib.pyplot as plt\n",
    "from numpy.linalg import norm\n",
    "\n",
    "from datetime import datetime\n",
    "import re\n",
    "from wordcloud import WordCloud, STOPWORDS\n",
    "\n",
    "from collections import Counter\n",
    "\n",
    "from sklearn import preprocessing\n",
    "from sklearn.model_selection import train_test_split\n",
    "from sklearn.metrics import confusion_matrix, classification_report, precision_recall_curve\n",
    "from sklearn.feature_extraction.text import TfidfVectorizer\n",
    "from sklearn import svm\n",
    "\n",
    "import re\n",
    "import nltk\n",
    "from nltk.corpus import stopwords\n",
    "from nltk import FreqDist\n",
    "\n",
    "from keras.preprocessing.text import Tokenizer\n",
    "from keras.preprocessing.sequence import pad_sequences\n",
    "\n",
    "import plotly.express as px"
   ]
  },
  {
   "cell_type": "code",
   "execution_count": 2,
   "metadata": {
    "id": "bpjuGG67Pyos"
   },
   "outputs": [],
   "source": [
    "from six.moves import urllib\n",
    "import os\n",
    "\n",
    "S3_details = 'https://ready2bool-spoileralert-hackgt.s3.amazonaws.com/IMDB_movie_details.json'\n",
    "S3_reviews = 'https://ready2bool-spoileralert-hackgt.s3.amazonaws.com/IMDB_reviews.json'\n",
    "details_path = os.path.join(\"datasets\", \"moviedetails\")\n",
    "reviews_path = os.path.join(\"datasets\", \"reviews\")\n",
    "\n",
    "\n",
    "def load_path(path, src, type_f):\n",
    "    if not os.path.isdir(path):\n",
    "      os.makedirs(path)\n",
    "    json_path = os.path.join(path, type_f)\n",
    "    urllib.request.urlretrieve(src, json_path)\n",
    "    return pd.read_json(json_path, lines=True)"
   ]
  },
  {
   "cell_type": "code",
   "execution_count": 3,
   "metadata": {
    "id": "rozlzVvjMfbV"
   },
   "outputs": [],
   "source": [
    "df_reviews = load_path(path=reviews_path, src=S3_reviews, type_f=\"reviews.json\")\n",
    "df_details = load_path(path=details_path, src=S3_details, type_f=\"details.json\")"
   ]
  },
  {
   "cell_type": "code",
   "execution_count": 4,
   "metadata": {
    "colab": {
     "base_uri": "https://localhost:8080/",
     "height": 419
    },
    "id": "DyIvWYLVSptJ",
    "outputId": "05a99913-eac9-4325-b0fe-3797b0329dfe"
   },
   "outputs": [
    {
     "data": {
      "text/html": [
       "<div>\n",
       "<style scoped>\n",
       "    .dataframe tbody tr th:only-of-type {\n",
       "        vertical-align: middle;\n",
       "    }\n",
       "\n",
       "    .dataframe tbody tr th {\n",
       "        vertical-align: top;\n",
       "    }\n",
       "\n",
       "    .dataframe thead th {\n",
       "        text-align: right;\n",
       "    }\n",
       "</style>\n",
       "<table border=\"1\" class=\"dataframe\">\n",
       "  <thead>\n",
       "    <tr style=\"text-align: right;\">\n",
       "      <th></th>\n",
       "      <th>movie_id</th>\n",
       "      <th>plot_summary</th>\n",
       "      <th>duration</th>\n",
       "      <th>genre</th>\n",
       "      <th>rating</th>\n",
       "      <th>release_date</th>\n",
       "      <th>plot_synopsis</th>\n",
       "    </tr>\n",
       "  </thead>\n",
       "  <tbody>\n",
       "    <tr>\n",
       "      <th>0</th>\n",
       "      <td>tt0105112</td>\n",
       "      <td>Former CIA analyst, Jack Ryan is in England wi...</td>\n",
       "      <td>1h 57min</td>\n",
       "      <td>[Action, Thriller]</td>\n",
       "      <td>6.9</td>\n",
       "      <td>1992-06-05</td>\n",
       "      <td>Jack Ryan (Ford) is on a \"working vacation\" in...</td>\n",
       "    </tr>\n",
       "    <tr>\n",
       "      <th>1</th>\n",
       "      <td>tt1204975</td>\n",
       "      <td>Billy (Michael Douglas), Paddy (Robert De Niro...</td>\n",
       "      <td>1h 45min</td>\n",
       "      <td>[Comedy]</td>\n",
       "      <td>6.6</td>\n",
       "      <td>2013-11-01</td>\n",
       "      <td>Four boys around the age of 10 are friends in ...</td>\n",
       "    </tr>\n",
       "    <tr>\n",
       "      <th>2</th>\n",
       "      <td>tt0243655</td>\n",
       "      <td>The setting is Camp Firewood, the year 1981. I...</td>\n",
       "      <td>1h 37min</td>\n",
       "      <td>[Comedy, Romance]</td>\n",
       "      <td>6.7</td>\n",
       "      <td>2002-04-11</td>\n",
       "      <td></td>\n",
       "    </tr>\n",
       "    <tr>\n",
       "      <th>3</th>\n",
       "      <td>tt0040897</td>\n",
       "      <td>Fred C. Dobbs and Bob Curtin, both down on the...</td>\n",
       "      <td>2h 6min</td>\n",
       "      <td>[Adventure, Drama, Western]</td>\n",
       "      <td>8.3</td>\n",
       "      <td>1948-01-24</td>\n",
       "      <td>Fred Dobbs (Humphrey Bogart) and Bob Curtin (T...</td>\n",
       "    </tr>\n",
       "    <tr>\n",
       "      <th>4</th>\n",
       "      <td>tt0126886</td>\n",
       "      <td>Tracy Flick is running unopposed for this year...</td>\n",
       "      <td>1h 43min</td>\n",
       "      <td>[Comedy, Drama, Romance]</td>\n",
       "      <td>7.3</td>\n",
       "      <td>1999-05-07</td>\n",
       "      <td>Jim McAllister (Matthew Broderick) is a much-a...</td>\n",
       "    </tr>\n",
       "    <tr>\n",
       "      <th>...</th>\n",
       "      <td>...</td>\n",
       "      <td>...</td>\n",
       "      <td>...</td>\n",
       "      <td>...</td>\n",
       "      <td>...</td>\n",
       "      <td>...</td>\n",
       "      <td>...</td>\n",
       "    </tr>\n",
       "    <tr>\n",
       "      <th>1567</th>\n",
       "      <td>tt0289879</td>\n",
       "      <td>Evan Treborn grows up in a small town with his...</td>\n",
       "      <td>1h 53min</td>\n",
       "      <td>[Sci-Fi, Thriller]</td>\n",
       "      <td>7.7</td>\n",
       "      <td>2004-01-23</td>\n",
       "      <td>In the year 1998, Evan Treborn (Ashton Kutcher...</td>\n",
       "    </tr>\n",
       "    <tr>\n",
       "      <th>1568</th>\n",
       "      <td>tt1723811</td>\n",
       "      <td>Brandon is a 30-something man living in New Yo...</td>\n",
       "      <td>1h 41min</td>\n",
       "      <td>[Drama]</td>\n",
       "      <td>7.2</td>\n",
       "      <td>2012-01-13</td>\n",
       "      <td>Brandon (Michael Fassbender) is a successful, ...</td>\n",
       "    </tr>\n",
       "    <tr>\n",
       "      <th>1569</th>\n",
       "      <td>tt5013056</td>\n",
       "      <td>Evacuation of Allied soldiers from the British...</td>\n",
       "      <td>1h 46min</td>\n",
       "      <td>[Action, Drama, History]</td>\n",
       "      <td>8.1</td>\n",
       "      <td>2017-07-21</td>\n",
       "      <td>The film alternates between three different pe...</td>\n",
       "    </tr>\n",
       "    <tr>\n",
       "      <th>1570</th>\n",
       "      <td>tt0104014/</td>\n",
       "      <td>For a while now, beautiful 24-year-old Diana B...</td>\n",
       "      <td>1h 33min</td>\n",
       "      <td>[Comedy, Drama]</td>\n",
       "      <td>5.3</td>\n",
       "      <td>1992-02-21</td>\n",
       "      <td></td>\n",
       "    </tr>\n",
       "    <tr>\n",
       "      <th>1571</th>\n",
       "      <td>tt0114142/</td>\n",
       "      <td>The marriage of David Burgess, a senior execut...</td>\n",
       "      <td>1h 32min</td>\n",
       "      <td>[Drama, Thriller]</td>\n",
       "      <td>4.0</td>\n",
       "      <td>1999-01-29</td>\n",
       "      <td></td>\n",
       "    </tr>\n",
       "  </tbody>\n",
       "</table>\n",
       "<p>1572 rows × 7 columns</p>\n",
       "</div>"
      ],
      "text/plain": [
       "        movie_id                                       plot_summary  duration  \\\n",
       "0      tt0105112  Former CIA analyst, Jack Ryan is in England wi...  1h 57min   \n",
       "1      tt1204975  Billy (Michael Douglas), Paddy (Robert De Niro...  1h 45min   \n",
       "2      tt0243655  The setting is Camp Firewood, the year 1981. I...  1h 37min   \n",
       "3      tt0040897  Fred C. Dobbs and Bob Curtin, both down on the...   2h 6min   \n",
       "4      tt0126886  Tracy Flick is running unopposed for this year...  1h 43min   \n",
       "...          ...                                                ...       ...   \n",
       "1567   tt0289879  Evan Treborn grows up in a small town with his...  1h 53min   \n",
       "1568   tt1723811  Brandon is a 30-something man living in New Yo...  1h 41min   \n",
       "1569   tt5013056  Evacuation of Allied soldiers from the British...  1h 46min   \n",
       "1570  tt0104014/  For a while now, beautiful 24-year-old Diana B...  1h 33min   \n",
       "1571  tt0114142/  The marriage of David Burgess, a senior execut...  1h 32min   \n",
       "\n",
       "                            genre  rating release_date  \\\n",
       "0              [Action, Thriller]     6.9   1992-06-05   \n",
       "1                        [Comedy]     6.6   2013-11-01   \n",
       "2               [Comedy, Romance]     6.7   2002-04-11   \n",
       "3     [Adventure, Drama, Western]     8.3   1948-01-24   \n",
       "4        [Comedy, Drama, Romance]     7.3   1999-05-07   \n",
       "...                           ...     ...          ...   \n",
       "1567           [Sci-Fi, Thriller]     7.7   2004-01-23   \n",
       "1568                      [Drama]     7.2   2012-01-13   \n",
       "1569     [Action, Drama, History]     8.1   2017-07-21   \n",
       "1570              [Comedy, Drama]     5.3   1992-02-21   \n",
       "1571            [Drama, Thriller]     4.0   1999-01-29   \n",
       "\n",
       "                                          plot_synopsis  \n",
       "0     Jack Ryan (Ford) is on a \"working vacation\" in...  \n",
       "1     Four boys around the age of 10 are friends in ...  \n",
       "2                                                        \n",
       "3     Fred Dobbs (Humphrey Bogart) and Bob Curtin (T...  \n",
       "4     Jim McAllister (Matthew Broderick) is a much-a...  \n",
       "...                                                 ...  \n",
       "1567  In the year 1998, Evan Treborn (Ashton Kutcher...  \n",
       "1568  Brandon (Michael Fassbender) is a successful, ...  \n",
       "1569  The film alternates between three different pe...  \n",
       "1570                                                     \n",
       "1571                                                     \n",
       "\n",
       "[1572 rows x 7 columns]"
      ]
     },
     "execution_count": 4,
     "metadata": {},
     "output_type": "execute_result"
    }
   ],
   "source": [
    "df_details"
   ]
  },
  {
   "cell_type": "code",
   "execution_count": 5,
   "metadata": {
    "colab": {
     "base_uri": "https://localhost:8080/",
     "height": 419
    },
    "id": "RpQA8k09OFYc",
    "outputId": "26031149-8180-4dc5-f9f6-330a9b7131e6"
   },
   "outputs": [
    {
     "data": {
      "text/html": [
       "<div>\n",
       "<style scoped>\n",
       "    .dataframe tbody tr th:only-of-type {\n",
       "        vertical-align: middle;\n",
       "    }\n",
       "\n",
       "    .dataframe tbody tr th {\n",
       "        vertical-align: top;\n",
       "    }\n",
       "\n",
       "    .dataframe thead th {\n",
       "        text-align: right;\n",
       "    }\n",
       "</style>\n",
       "<table border=\"1\" class=\"dataframe\">\n",
       "  <thead>\n",
       "    <tr style=\"text-align: right;\">\n",
       "      <th></th>\n",
       "      <th>review_date</th>\n",
       "      <th>movie_id</th>\n",
       "      <th>user_id</th>\n",
       "      <th>is_spoiler</th>\n",
       "      <th>review_text</th>\n",
       "      <th>rating</th>\n",
       "      <th>review_summary</th>\n",
       "    </tr>\n",
       "  </thead>\n",
       "  <tbody>\n",
       "    <tr>\n",
       "      <th>0</th>\n",
       "      <td>10 February 2006</td>\n",
       "      <td>tt0111161</td>\n",
       "      <td>ur1898687</td>\n",
       "      <td>True</td>\n",
       "      <td>In its Oscar year, Shawshank Redemption (writt...</td>\n",
       "      <td>10</td>\n",
       "      <td>A classic piece of unforgettable film-making.</td>\n",
       "    </tr>\n",
       "    <tr>\n",
       "      <th>1</th>\n",
       "      <td>6 September 2000</td>\n",
       "      <td>tt0111161</td>\n",
       "      <td>ur0842118</td>\n",
       "      <td>True</td>\n",
       "      <td>The Shawshank Redemption is without a doubt on...</td>\n",
       "      <td>10</td>\n",
       "      <td>Simply amazing. The best film of the 90's.</td>\n",
       "    </tr>\n",
       "    <tr>\n",
       "      <th>2</th>\n",
       "      <td>3 August 2001</td>\n",
       "      <td>tt0111161</td>\n",
       "      <td>ur1285640</td>\n",
       "      <td>True</td>\n",
       "      <td>I believe that this film is the best story eve...</td>\n",
       "      <td>8</td>\n",
       "      <td>The best story ever told on film</td>\n",
       "    </tr>\n",
       "    <tr>\n",
       "      <th>3</th>\n",
       "      <td>1 September 2002</td>\n",
       "      <td>tt0111161</td>\n",
       "      <td>ur1003471</td>\n",
       "      <td>True</td>\n",
       "      <td>**Yes, there are SPOILERS here**This film has ...</td>\n",
       "      <td>10</td>\n",
       "      <td>Busy dying or busy living?</td>\n",
       "    </tr>\n",
       "    <tr>\n",
       "      <th>4</th>\n",
       "      <td>20 May 2004</td>\n",
       "      <td>tt0111161</td>\n",
       "      <td>ur0226855</td>\n",
       "      <td>True</td>\n",
       "      <td>At the heart of this extraordinary movie is a ...</td>\n",
       "      <td>8</td>\n",
       "      <td>Great story, wondrously told and acted</td>\n",
       "    </tr>\n",
       "    <tr>\n",
       "      <th>...</th>\n",
       "      <td>...</td>\n",
       "      <td>...</td>\n",
       "      <td>...</td>\n",
       "      <td>...</td>\n",
       "      <td>...</td>\n",
       "      <td>...</td>\n",
       "      <td>...</td>\n",
       "    </tr>\n",
       "    <tr>\n",
       "      <th>573908</th>\n",
       "      <td>8 August 1999</td>\n",
       "      <td>tt0139239</td>\n",
       "      <td>ur0100166</td>\n",
       "      <td>False</td>\n",
       "      <td>Go is wise, fast and pure entertainment. Assem...</td>\n",
       "      <td>10</td>\n",
       "      <td>The best teen movie of the nineties</td>\n",
       "    </tr>\n",
       "    <tr>\n",
       "      <th>573909</th>\n",
       "      <td>31 July 1999</td>\n",
       "      <td>tt0139239</td>\n",
       "      <td>ur0021767</td>\n",
       "      <td>False</td>\n",
       "      <td>Well, what shall I say. this one´s fun at any ...</td>\n",
       "      <td>9</td>\n",
       "      <td>Go - see the movie</td>\n",
       "    </tr>\n",
       "    <tr>\n",
       "      <th>573910</th>\n",
       "      <td>20 July 1999</td>\n",
       "      <td>tt0139239</td>\n",
       "      <td>ur0392750</td>\n",
       "      <td>False</td>\n",
       "      <td>Go is the best movie I have ever seen, and I'v...</td>\n",
       "      <td>10</td>\n",
       "      <td>It's the best movie I've ever seen</td>\n",
       "    </tr>\n",
       "    <tr>\n",
       "      <th>573911</th>\n",
       "      <td>11 June 1999</td>\n",
       "      <td>tt0139239</td>\n",
       "      <td>ur0349105</td>\n",
       "      <td>False</td>\n",
       "      <td>Call this 1999 teenage version of Pulp Fiction...</td>\n",
       "      <td>3</td>\n",
       "      <td>Haven't we seen this before?</td>\n",
       "    </tr>\n",
       "    <tr>\n",
       "      <th>573912</th>\n",
       "      <td>3 May 1999</td>\n",
       "      <td>tt0139239</td>\n",
       "      <td>ur0156431</td>\n",
       "      <td>False</td>\n",
       "      <td>Why was this movie made? No doubt to sucker in...</td>\n",
       "      <td>2</td>\n",
       "      <td>Go doesn't go anywhere</td>\n",
       "    </tr>\n",
       "  </tbody>\n",
       "</table>\n",
       "<p>573913 rows × 7 columns</p>\n",
       "</div>"
      ],
      "text/plain": [
       "             review_date   movie_id    user_id  is_spoiler  \\\n",
       "0       10 February 2006  tt0111161  ur1898687        True   \n",
       "1       6 September 2000  tt0111161  ur0842118        True   \n",
       "2          3 August 2001  tt0111161  ur1285640        True   \n",
       "3       1 September 2002  tt0111161  ur1003471        True   \n",
       "4            20 May 2004  tt0111161  ur0226855        True   \n",
       "...                  ...        ...        ...         ...   \n",
       "573908     8 August 1999  tt0139239  ur0100166       False   \n",
       "573909      31 July 1999  tt0139239  ur0021767       False   \n",
       "573910      20 July 1999  tt0139239  ur0392750       False   \n",
       "573911      11 June 1999  tt0139239  ur0349105       False   \n",
       "573912        3 May 1999  tt0139239  ur0156431       False   \n",
       "\n",
       "                                              review_text  rating  \\\n",
       "0       In its Oscar year, Shawshank Redemption (writt...      10   \n",
       "1       The Shawshank Redemption is without a doubt on...      10   \n",
       "2       I believe that this film is the best story eve...       8   \n",
       "3       **Yes, there are SPOILERS here**This film has ...      10   \n",
       "4       At the heart of this extraordinary movie is a ...       8   \n",
       "...                                                   ...     ...   \n",
       "573908  Go is wise, fast and pure entertainment. Assem...      10   \n",
       "573909  Well, what shall I say. this one´s fun at any ...       9   \n",
       "573910  Go is the best movie I have ever seen, and I'v...      10   \n",
       "573911  Call this 1999 teenage version of Pulp Fiction...       3   \n",
       "573912  Why was this movie made? No doubt to sucker in...       2   \n",
       "\n",
       "                                       review_summary  \n",
       "0       A classic piece of unforgettable film-making.  \n",
       "1          Simply amazing. The best film of the 90's.  \n",
       "2                    The best story ever told on film  \n",
       "3                          Busy dying or busy living?  \n",
       "4              Great story, wondrously told and acted  \n",
       "...                                               ...  \n",
       "573908            The best teen movie of the nineties  \n",
       "573909                             Go - see the movie  \n",
       "573910             It's the best movie I've ever seen  \n",
       "573911                   Haven't we seen this before?  \n",
       "573912                         Go doesn't go anywhere  \n",
       "\n",
       "[573913 rows x 7 columns]"
      ]
     },
     "execution_count": 5,
     "metadata": {},
     "output_type": "execute_result"
    }
   ],
   "source": [
    "df_reviews"
   ]
  },
  {
   "cell_type": "code",
   "execution_count": 6,
   "metadata": {
    "id": "T4aVhw7WOV-m"
   },
   "outputs": [],
   "source": [
    "try : \n",
    "  df_reviews = df_reviews.drop(labels=['review_date', 'movie_id', 'user_id', 'rating', 'review_summary'], axis=1)\n",
    "except :\n",
    "  print(\"Columns Removed\")"
   ]
  },
  {
   "cell_type": "code",
   "execution_count": 7,
   "metadata": {
    "colab": {
     "base_uri": "https://localhost:8080/",
     "height": 419
    },
    "id": "fSP_UuXrPgmD",
    "outputId": "4cd072b9-cbb5-4be3-fdba-5fa7dc301d1c"
   },
   "outputs": [],
   "source": [
    "df_reviews = df_reviews.sample(40000)"
   ]
  },
  {
   "cell_type": "code",
   "execution_count": 8,
   "metadata": {
    "colab": {
     "base_uri": "https://localhost:8080/",
     "height": 68
    },
    "id": "JFeAp6Q_Pjj_",
    "outputId": "2a2422a8-c9cb-4918-9982-57363af69b3b"
   },
   "outputs": [
    {
     "data": {
      "text/plain": [
       "0    29450\n",
       "1    10550\n",
       "Name: is_spoiler, dtype: int64"
      ]
     },
     "execution_count": 8,
     "metadata": {},
     "output_type": "execute_result"
    }
   ],
   "source": [
    "df_reviews.loc[df_reviews.is_spoiler==True, 'is_spoiler'] = 1\n",
    "df_reviews.loc[df_reviews.is_spoiler==False, 'is_spoiler'] = 0\n",
    "df_reviews.is_spoiler.value_counts()"
   ]
  },
  {
   "cell_type": "code",
   "execution_count": 9,
   "metadata": {
    "colab": {
     "base_uri": "https://localhost:8080/",
     "height": 419
    },
    "id": "ebZ5tICyQJwe",
    "outputId": "7a807f81-3ef7-469c-d434-7bbe17cfe2a3"
   },
   "outputs": [
    {
     "data": {
      "text/html": [
       "<div>\n",
       "<style scoped>\n",
       "    .dataframe tbody tr th:only-of-type {\n",
       "        vertical-align: middle;\n",
       "    }\n",
       "\n",
       "    .dataframe tbody tr th {\n",
       "        vertical-align: top;\n",
       "    }\n",
       "\n",
       "    .dataframe thead th {\n",
       "        text-align: right;\n",
       "    }\n",
       "</style>\n",
       "<table border=\"1\" class=\"dataframe\">\n",
       "  <thead>\n",
       "    <tr style=\"text-align: right;\">\n",
       "      <th></th>\n",
       "      <th>is_spoiler</th>\n",
       "      <th>review_text</th>\n",
       "    </tr>\n",
       "  </thead>\n",
       "  <tbody>\n",
       "    <tr>\n",
       "      <th>206179</th>\n",
       "      <td>1</td>\n",
       "      <td>Goodness gravy gracious  I don t even know whe...</td>\n",
       "    </tr>\n",
       "    <tr>\n",
       "      <th>267157</th>\n",
       "      <td>0</td>\n",
       "      <td>After the epic and vaunted  Dogtooth   Yorgos ...</td>\n",
       "    </tr>\n",
       "    <tr>\n",
       "      <th>44725</th>\n",
       "      <td>0</td>\n",
       "      <td>I ve now seen BR 2049 two times  First in IMAX...</td>\n",
       "    </tr>\n",
       "    <tr>\n",
       "      <th>404660</th>\n",
       "      <td>1</td>\n",
       "      <td>I loved the first movie it was the highlight o...</td>\n",
       "    </tr>\n",
       "    <tr>\n",
       "      <th>244356</th>\n",
       "      <td>0</td>\n",
       "      <td>Lets just be honest  the only thing good about...</td>\n",
       "    </tr>\n",
       "    <tr>\n",
       "      <th>...</th>\n",
       "      <td>...</td>\n",
       "      <td>...</td>\n",
       "    </tr>\n",
       "    <tr>\n",
       "      <th>9118</th>\n",
       "      <td>0</td>\n",
       "      <td>There is no part of  The Dark Knight  that can...</td>\n",
       "    </tr>\n",
       "    <tr>\n",
       "      <th>565480</th>\n",
       "      <td>1</td>\n",
       "      <td>Again a funny Bond spoof with more spoofing th...</td>\n",
       "    </tr>\n",
       "    <tr>\n",
       "      <th>25574</th>\n",
       "      <td>0</td>\n",
       "      <td>Kurosawa is one of my favorite directors And T...</td>\n",
       "    </tr>\n",
       "    <tr>\n",
       "      <th>113095</th>\n",
       "      <td>0</td>\n",
       "      <td>Get Out is easily the best movie of 2017  mana...</td>\n",
       "    </tr>\n",
       "    <tr>\n",
       "      <th>273358</th>\n",
       "      <td>0</td>\n",
       "      <td>I really liked this movie  it s basically abou...</td>\n",
       "    </tr>\n",
       "  </tbody>\n",
       "</table>\n",
       "<p>40000 rows × 2 columns</p>\n",
       "</div>"
      ],
      "text/plain": [
       "       is_spoiler                                        review_text\n",
       "206179          1  Goodness gravy gracious  I don t even know whe...\n",
       "267157          0  After the epic and vaunted  Dogtooth   Yorgos ...\n",
       "44725           0  I ve now seen BR 2049 two times  First in IMAX...\n",
       "404660          1  I loved the first movie it was the highlight o...\n",
       "244356          0  Lets just be honest  the only thing good about...\n",
       "...           ...                                                ...\n",
       "9118            0  There is no part of  The Dark Knight  that can...\n",
       "565480          1  Again a funny Bond spoof with more spoofing th...\n",
       "25574           0  Kurosawa is one of my favorite directors And T...\n",
       "113095          0  Get Out is easily the best movie of 2017  mana...\n",
       "273358          0  I really liked this movie  it s basically abou...\n",
       "\n",
       "[40000 rows x 2 columns]"
      ]
     },
     "execution_count": 9,
     "metadata": {},
     "output_type": "execute_result"
    }
   ],
   "source": [
    "import string\n",
    "df_reviews['review_text'] = df_reviews['review_text'].apply(lambda x: x.translate(str.maketrans(string.punctuation, ' '*len(string.punctuation))))\n",
    "df_reviews"
   ]
  },
  {
   "cell_type": "code",
   "execution_count": 10,
   "metadata": {
    "id": "RMnuMgYDQoOY"
   },
   "outputs": [
    {
     "name": "stderr",
     "output_type": "stream",
     "text": [
      "[nltk_data] Downloading package stopwords to\n",
      "[nltk_data]     /home/arvind_anand1123/nltk_data...\n",
      "[nltk_data]   Package stopwords is already up-to-date!\n"
     ]
    }
   ],
   "source": [
    "from nltk.corpus import stopwords\n",
    "nltk.download('stopwords')\n",
    "stop = stopwords.words('english')\n",
    "df_reviews['review_text'] = df_reviews['review_text'].apply(lambda x: \" \".join(x for x in x.split() if x not in stop))"
   ]
  },
  {
   "cell_type": "code",
   "execution_count": 26,
   "metadata": {
    "colab": {
     "base_uri": "https://localhost:8080/",
     "height": 419
    },
    "id": "eLjj96LnRtYW",
    "outputId": "cb6775fd-90fe-4d94-9570-5b52ef6d62da"
   },
   "outputs": [
    {
     "data": {
      "text/plain": [
       "pandas.core.frame.DataFrame"
      ]
     },
     "execution_count": 26,
     "metadata": {},
     "output_type": "execute_result"
    }
   ],
   "source": [
    "df_reviews"
   ]
  },
  {
   "cell_type": "code",
   "execution_count": 12,
   "metadata": {
    "id": "nVF_JQTYR05a"
   },
   "outputs": [],
   "source": [
    "from nltk.stem import PorterStemmer\n",
    "st = PorterStemmer()\n",
    "df_reviews['review_text'] = df_reviews['review_text'].apply(lambda x: \" \".join([st.stem(word) for word in x.split()]))"
   ]
  },
  {
   "cell_type": "code",
   "execution_count": 13,
   "metadata": {
    "id": "kMSrmBpVR6ve"
   },
   "outputs": [
    {
     "data": {
      "text/html": [
       "<div>\n",
       "<style scoped>\n",
       "    .dataframe tbody tr th:only-of-type {\n",
       "        vertical-align: middle;\n",
       "    }\n",
       "\n",
       "    .dataframe tbody tr th {\n",
       "        vertical-align: top;\n",
       "    }\n",
       "\n",
       "    .dataframe thead th {\n",
       "        text-align: right;\n",
       "    }\n",
       "</style>\n",
       "<table border=\"1\" class=\"dataframe\">\n",
       "  <thead>\n",
       "    <tr style=\"text-align: right;\">\n",
       "      <th></th>\n",
       "      <th>is_spoiler</th>\n",
       "      <th>review_text</th>\n",
       "    </tr>\n",
       "  </thead>\n",
       "  <tbody>\n",
       "    <tr>\n",
       "      <th>206179</th>\n",
       "      <td>1</td>\n",
       "      <td>good gravi graciou I even know begin berat tra...</td>\n",
       "    </tr>\n",
       "    <tr>\n",
       "      <th>267157</th>\n",
       "      <td>0</td>\n",
       "      <td>after epic vaunt dogtooth yorgo lanthimo recol...</td>\n",
       "    </tr>\n",
       "    <tr>\n",
       "      <th>44725</th>\n",
       "      <td>0</td>\n",
       "      <td>I seen BR 2049 two time first imax soni 4k the...</td>\n",
       "    </tr>\n",
       "    <tr>\n",
       "      <th>404660</th>\n",
       "      <td>1</td>\n",
       "      <td>I love first movi highlight summer So natur I ...</td>\n",
       "    </tr>\n",
       "    <tr>\n",
       "      <th>244356</th>\n",
       "      <td>0</td>\n",
       "      <td>let honest thing good otherwis terribl movi ha...</td>\n",
       "    </tr>\n",
       "    <tr>\n",
       "      <th>...</th>\n",
       "      <td>...</td>\n",
       "      <td>...</td>\n",
       "    </tr>\n",
       "    <tr>\n",
       "      <th>9118</th>\n",
       "      <td>0</td>\n",
       "      <td>there part the dark knight go unappreci from h...</td>\n",
       "    </tr>\n",
       "    <tr>\n",
       "      <th>565480</th>\n",
       "      <td>1</td>\n",
       "      <td>again funni bond spoof spoof ever it funni lad...</td>\n",
       "    </tr>\n",
       "    <tr>\n",
       "      <th>25574</th>\n",
       "      <td>0</td>\n",
       "      <td>kurosawa one favorit director and toshiro mifu...</td>\n",
       "    </tr>\n",
       "    <tr>\n",
       "      <th>113095</th>\n",
       "      <td>0</td>\n",
       "      <td>get out easili best movi 2017 manag get highli...</td>\n",
       "    </tr>\n",
       "    <tr>\n",
       "      <th>273358</th>\n",
       "      <td>0</td>\n",
       "      <td>I realli like movi basic might chanc might mis...</td>\n",
       "    </tr>\n",
       "  </tbody>\n",
       "</table>\n",
       "<p>40000 rows × 2 columns</p>\n",
       "</div>"
      ],
      "text/plain": [
       "       is_spoiler                                        review_text\n",
       "206179          1  good gravi graciou I even know begin berat tra...\n",
       "267157          0  after epic vaunt dogtooth yorgo lanthimo recol...\n",
       "44725           0  I seen BR 2049 two time first imax soni 4k the...\n",
       "404660          1  I love first movi highlight summer So natur I ...\n",
       "244356          0  let honest thing good otherwis terribl movi ha...\n",
       "...           ...                                                ...\n",
       "9118            0  there part the dark knight go unappreci from h...\n",
       "565480          1  again funni bond spoof spoof ever it funni lad...\n",
       "25574           0  kurosawa one favorit director and toshiro mifu...\n",
       "113095          0  get out easili best movi 2017 manag get highli...\n",
       "273358          0  I realli like movi basic might chanc might mis...\n",
       "\n",
       "[40000 rows x 2 columns]"
      ]
     },
     "execution_count": 13,
     "metadata": {},
     "output_type": "execute_result"
    }
   ],
   "source": [
    "df_reviews"
   ]
  },
  {
   "cell_type": "code",
   "execution_count": 14,
   "metadata": {
    "id": "o7IdB5Xth0n9"
   },
   "outputs": [],
   "source": [
    "import re\n",
    "regex = r'\\d+'\n",
    "df_reviews['review_text'] = df_reviews['review_text'].apply(lambda x:\" \".join(re.sub(regex, 'numbers', word) for word in x.split()))"
   ]
  },
  {
   "cell_type": "code",
   "execution_count": 15,
   "metadata": {
    "id": "H3CHc8uCsxYD"
   },
   "outputs": [
    {
     "data": {
      "text/html": [
       "<div>\n",
       "<style scoped>\n",
       "    .dataframe tbody tr th:only-of-type {\n",
       "        vertical-align: middle;\n",
       "    }\n",
       "\n",
       "    .dataframe tbody tr th {\n",
       "        vertical-align: top;\n",
       "    }\n",
       "\n",
       "    .dataframe thead th {\n",
       "        text-align: right;\n",
       "    }\n",
       "</style>\n",
       "<table border=\"1\" class=\"dataframe\">\n",
       "  <thead>\n",
       "    <tr style=\"text-align: right;\">\n",
       "      <th></th>\n",
       "      <th>is_spoiler</th>\n",
       "      <th>review_text</th>\n",
       "    </tr>\n",
       "  </thead>\n",
       "  <tbody>\n",
       "    <tr>\n",
       "      <th>206179</th>\n",
       "      <td>1</td>\n",
       "      <td>good gravi graciou I even know begin berat tra...</td>\n",
       "    </tr>\n",
       "    <tr>\n",
       "      <th>267157</th>\n",
       "      <td>0</td>\n",
       "      <td>after epic vaunt dogtooth yorgo lanthimo recol...</td>\n",
       "    </tr>\n",
       "    <tr>\n",
       "      <th>44725</th>\n",
       "      <td>0</td>\n",
       "      <td>I seen BR numbers two time first imax soni num...</td>\n",
       "    </tr>\n",
       "    <tr>\n",
       "      <th>404660</th>\n",
       "      <td>1</td>\n",
       "      <td>I love first movi highlight summer So natur I ...</td>\n",
       "    </tr>\n",
       "    <tr>\n",
       "      <th>244356</th>\n",
       "      <td>0</td>\n",
       "      <td>let honest thing good otherwis terribl movi ha...</td>\n",
       "    </tr>\n",
       "    <tr>\n",
       "      <th>...</th>\n",
       "      <td>...</td>\n",
       "      <td>...</td>\n",
       "    </tr>\n",
       "    <tr>\n",
       "      <th>9118</th>\n",
       "      <td>0</td>\n",
       "      <td>there part the dark knight go unappreci from h...</td>\n",
       "    </tr>\n",
       "    <tr>\n",
       "      <th>565480</th>\n",
       "      <td>1</td>\n",
       "      <td>again funni bond spoof spoof ever it funni lad...</td>\n",
       "    </tr>\n",
       "    <tr>\n",
       "      <th>25574</th>\n",
       "      <td>0</td>\n",
       "      <td>kurosawa one favorit director and toshiro mifu...</td>\n",
       "    </tr>\n",
       "    <tr>\n",
       "      <th>113095</th>\n",
       "      <td>0</td>\n",
       "      <td>get out easili best movi numbers manag get hig...</td>\n",
       "    </tr>\n",
       "    <tr>\n",
       "      <th>273358</th>\n",
       "      <td>0</td>\n",
       "      <td>I realli like movi basic might chanc might mis...</td>\n",
       "    </tr>\n",
       "  </tbody>\n",
       "</table>\n",
       "<p>40000 rows × 2 columns</p>\n",
       "</div>"
      ],
      "text/plain": [
       "       is_spoiler                                        review_text\n",
       "206179          1  good gravi graciou I even know begin berat tra...\n",
       "267157          0  after epic vaunt dogtooth yorgo lanthimo recol...\n",
       "44725           0  I seen BR numbers two time first imax soni num...\n",
       "404660          1  I love first movi highlight summer So natur I ...\n",
       "244356          0  let honest thing good otherwis terribl movi ha...\n",
       "...           ...                                                ...\n",
       "9118            0  there part the dark knight go unappreci from h...\n",
       "565480          1  again funni bond spoof spoof ever it funni lad...\n",
       "25574           0  kurosawa one favorit director and toshiro mifu...\n",
       "113095          0  get out easili best movi numbers manag get hig...\n",
       "273358          0  I realli like movi basic might chanc might mis...\n",
       "\n",
       "[40000 rows x 2 columns]"
      ]
     },
     "execution_count": 15,
     "metadata": {},
     "output_type": "execute_result"
    }
   ],
   "source": [
    "df_reviews"
   ]
  },
  {
   "cell_type": "code",
   "execution_count": 16,
   "metadata": {
    "id": "YWtosiuBtBDU"
   },
   "outputs": [],
   "source": [
    "# freq = pd.Series(' '.join(df_reviews['review_text']).split()).value_counts()\n",
    "# low_freq = list(freq.loc[freq<5].index)\n",
    "# df_reviews['review_text'] = df_reviews['review_text'].apply(lambda x: \" \".join(x for x in x.split() if x not in low_freq))"
   ]
  },
  {
   "cell_type": "code",
   "execution_count": 17,
   "metadata": {
    "id": "_9I88XtitKAk"
   },
   "outputs": [],
   "source": [
    "# df_reviews"
   ]
  },
  {
   "cell_type": "code",
   "execution_count": 18,
   "metadata": {},
   "outputs": [],
   "source": [
    "# words = pd.Series(' '.join(df_reviews['review_text']).split()).unique()\n",
    "# words"
   ]
  },
  {
   "cell_type": "code",
   "execution_count": 29,
   "metadata": {},
   "outputs": [],
   "source": [
    "spoilers = df_reviews.loc[df_reviews['is_spoiler'] == 1]\n",
    "not_spoilers = df_reviews.loc[df_reviews['is_spoiler'] == 0]\n",
    "\n",
    "X = list(df_reviews['review_text'])\n",
    "y = list(df_reviews['is_spoiler'])"
   ]
  },
  {
   "cell_type": "code",
   "execution_count": 30,
   "metadata": {},
   "outputs": [],
   "source": [
    "from sklearn.feature_extraction.text import TfidfVectorizer\n",
    "vectorizer = TfidfVectorizer()"
   ]
  },
  {
   "cell_type": "code",
   "execution_count": 31,
   "metadata": {},
   "outputs": [],
   "source": [
    "X_train, X_test, y_train, y_test = train_test_split(X, y, test_size=.8, random_state=42)\n",
    "X_train_t = vectorizer.fit_transform(X_train)\n",
    "X_test = vectorizer.transform(X_test)"
   ]
  },
  {
   "cell_type": "code",
   "execution_count": 32,
   "metadata": {},
   "outputs": [
    {
     "data": {
      "text/plain": [
       "RandomForestClassifier(bootstrap=True, ccp_alpha=0.0, class_weight=None,\n",
       "                       criterion='gini', max_depth=None, max_features='auto',\n",
       "                       max_leaf_nodes=None, max_samples=None,\n",
       "                       min_impurity_decrease=0.0, min_impurity_split=None,\n",
       "                       min_samples_leaf=1, min_samples_split=2,\n",
       "                       min_weight_fraction_leaf=0.0, n_estimators=100,\n",
       "                       n_jobs=None, oob_score=False, random_state=None,\n",
       "                       verbose=0, warm_start=False)"
      ]
     },
     "execution_count": 32,
     "metadata": {},
     "output_type": "execute_result"
    }
   ],
   "source": [
    "from sklearn.svm import SVC\n",
    "from sklearn.metrics import classification_report\n",
    "from sklearn.ensemble import RandomForestClassifier\n",
    "from sklearn.pipeline import Pipeline\n",
    "\n",
    "clf = RandomForestClassifier()\n",
    "clf.fit(X_train_t, y_train)"
   ]
  },
  {
   "cell_type": "code",
   "execution_count": 33,
   "metadata": {},
   "outputs": [
    {
     "name": "stdout",
     "output_type": "stream",
     "text": [
      "              precision    recall  f1-score   support\n",
      "\n",
      "           0       0.74      1.00      0.85     23569\n",
      "           1       0.74      0.02      0.03      8431\n",
      "\n",
      "    accuracy                           0.74     32000\n",
      "   macro avg       0.74      0.51      0.44     32000\n",
      "weighted avg       0.74      0.74      0.63     32000\n",
      "\n"
     ]
    }
   ],
   "source": [
    "(y_true, y_pred) = (y_test, clf.predict(X_test))\n",
    "print (classification_report(y_true, y_pred))"
   ]
  },
  {
   "cell_type": "code",
   "execution_count": 34,
   "metadata": {},
   "outputs": [],
   "source": [
    "import pickle\n",
    "\n",
    "pickle.dump(clf, open('model.pkl', 'wb'))\n",
    "pickle.dump(X_train, open('train.pkl', 'wb'))"
   ]
  },
  {
   "cell_type": "code",
   "execution_count": null,
   "metadata": {
    "id": "JCz4hnqNMihR"
   },
   "outputs": [],
   "source": [
    "# df_reviews = pd.merge(df_reviews,df_details.drop('rating',axis=1),on='movie_id')[df_reviews.columns.values]"
   ]
  },
  {
   "cell_type": "code",
   "execution_count": null,
   "metadata": {
    "id": "yohnhC8cMk0f"
   },
   "outputs": [],
   "source": [
    "# df_reviews.is_spoiler.value_counts()"
   ]
  },
  {
   "cell_type": "code",
   "execution_count": null,
   "metadata": {
    "id": "Yo9Gb0gcMnUw"
   },
   "outputs": [],
   "source": [
    "# le = preprocessing.LabelEncoder()\n",
    "# df_reviews.is_spoiler = le.fit_transform(df_reviews.is_spoiler)"
   ]
  },
  {
   "cell_type": "code",
   "execution_count": null,
   "metadata": {
    "id": "QVdAFZd2MqPZ"
   },
   "outputs": [],
   "source": [
    "# # stratify\n",
    "# spoilers = df_reviews[df_reviews.is_spoiler == 1].sample(frac=1).reset_index(drop=True)\n",
    "# others = df_reviews[df_reviews.is_spoiler == 0].sample(frac=1).reset_index(drop=True)\n",
    "\n",
    "# # train set\n",
    "# df_reviews = pd.concat([spoilers.head(35000), others.head(100000)]).sample(frac=1).reset_index(drop=True)\n",
    "\n",
    "# # test set\n",
    "# test = pd.concat([spoilers.tail(1500), others.tail(3000)]).sample(frac=1).reset_index(drop=True)"
   ]
  },
  {
   "cell_type": "code",
   "execution_count": null,
   "metadata": {
    "id": "ir6W2aFRKc28"
   },
   "outputs": [],
   "source": [
    "# test"
   ]
  },
  {
   "cell_type": "code",
   "execution_count": null,
   "metadata": {
    "id": "eEZokYwUMszS"
   },
   "outputs": [],
   "source": [
    "# movie_spoiler_counts = df_reviews.groupby(by='movie_id').is_spoiler.agg(['sum']).reset_index().rename(columns={'sum':'movie_spoiler_count'})\n",
    "# movie_total_counts = df_reviews.groupby(by='movie_id').is_spoiler.agg(['count']).reset_index().rename(columns={'count':'movie_total_count'})\n",
    "# df_ratio = pd.merge(movie_spoiler_counts, movie_total_counts, on='movie_id')\n",
    "# df_ratio['movie_spoiler_ratio'] = df_ratio.movie_spoiler_count / df_ratio.movie_total_count\n",
    "# df_ratio.drop(['movie_spoiler_count','movie_total_count'], axis=1, inplace=True)\n",
    "# display(df_ratio)\n",
    "# df_reviews = pd.merge(df_reviews, df_ratio, on='movie_id')"
   ]
  },
  {
   "cell_type": "code",
   "execution_count": null,
   "metadata": {
    "id": "0u9P93K_Mvgp"
   },
   "outputs": [],
   "source": [
    "# df_ratio.shape"
   ]
  },
  {
   "cell_type": "code",
   "execution_count": null,
   "metadata": {
    "id": "3QQrELHeM5JP"
   },
   "outputs": [],
   "source": [
    "# df_temp = pd.DataFrame({\"label\":[\"spoiler\", \"non spoiler\"],\n",
    "#                       \"movie_spoiler_ratio\":[df_reviews[df_reviews.is_spoiler==1].movie_spoiler_ratio.mean(), \n",
    "#                                             df_reviews[df_reviews.is_spoiler==0].movie_spoiler_ratio.mean()]})\n",
    "# sns.barplot(x = \"label\", y = \"movie_spoiler_ratio\", data = df_temp);"
   ]
  },
  {
   "cell_type": "code",
   "execution_count": null,
   "metadata": {
    "id": "2EjQUI8IM7y4"
   },
   "outputs": [],
   "source": [
    "# user_spoiler_counts = df_reviews.groupby(by='user_id').is_spoiler.agg(['sum']).reset_index().rename(columns={'sum':'user_spoiler_count'})\n",
    "# user_total_counts = df_reviews.groupby(by='user_id').is_spoiler.agg(['count']).reset_index().rename(columns={'count':'user_total_count'})\n",
    "# user_spoiler_ratio = pd.merge(user_spoiler_counts, user_total_counts, on='user_id')\n",
    "# user_spoiler_ratio['user_spoiler_ratio'] = user_spoiler_ratio.user_spoiler_count / user_spoiler_ratio.user_total_count\n",
    "# user_spoiler_ratio.drop(['user_spoiler_count','user_total_count'], axis=1, inplace=True)\n",
    "# display(user_spoiler_ratio.sample(frac=1))\n",
    "# df_reviews = pd.merge(df_reviews, user_spoiler_ratio, on='user_id')"
   ]
  },
  {
   "cell_type": "code",
   "execution_count": null,
   "metadata": {
    "id": "KrVjdB-FM-kV"
   },
   "outputs": [],
   "source": [
    "# df_temp = pd.DataFrame({\"label\":[\"spoiler\", \"non spoiler\"], \n",
    "#                         \"user_spoiler_ratio\":[df_reviews[df_reviews.is_spoiler==1].user_spoiler_ratio.mean(), \n",
    "#                                             df_reviews[df_reviews.is_spoiler==0].user_spoiler_ratio.mean()]})\n",
    "# sns.barplot(x = \"label\", y = \"user_spoiler_ratio\", data = df_temp);"
   ]
  },
  {
   "cell_type": "code",
   "execution_count": null,
   "metadata": {
    "id": "xyxuYTaFNBMY"
   },
   "outputs": [],
   "source": [
    "# df_reviews.user_spoiler_ratio = (df_reviews.user_spoiler_ratio >= 0.1) + 0"
   ]
  },
  {
   "cell_type": "code",
   "execution_count": null,
   "metadata": {
    "id": "74n916QPNEeA"
   },
   "outputs": [],
   "source": [
    "# def formatReviewDate(review_date):\n",
    "#     return datetime.strptime(review_date, '%d %B %Y').date()\n",
    "\n",
    "# def formatReleaseDate(release_date):\n",
    "#     date = None\n",
    "#     try:\n",
    "#         date = datetime.strptime(release_date, '%Y-%m-%d').date()\n",
    "#     except:\n",
    "#         try:\n",
    "#             date = datetime.strptime(release_date+'-01', '%Y-%m-%d').date()\n",
    "#         except:\n",
    "#             date = datetime.strptime(release_date+'-01-01', '%Y-%m-%d').date()\n",
    "#     return date"
   ]
  },
  {
   "cell_type": "code",
   "execution_count": null,
   "metadata": {
    "id": "cFwgCwmiNHcC"
   },
   "outputs": [],
   "source": [
    "# df_reviews['review_date'] = df_reviews.review_date.apply(formatReviewDate)\n",
    "# df_details['release_date'] = df_details.release_date.apply(formatReleaseDate)"
   ]
  },
  {
   "cell_type": "code",
   "execution_count": null,
   "metadata": {
    "id": "W--PHZL2NJkf"
   },
   "outputs": [],
   "source": [
    "# merged_df_reviews = pd.merge(df_reviews,df_details,on='movie_id')\n",
    "# merged_df_reviews['review_relevance'] = (merged_df_reviews.review_date - merged_df_reviews.release_date).apply(lambda x: abs(x.days))"
   ]
  },
  {
   "cell_type": "code",
   "execution_count": null,
   "metadata": {
    "id": "pgWkxvDHNLx-"
   },
   "outputs": [],
   "source": [
    "# print(\"Mean recency (spoilers) =\",merged_df_reviews[merged_df_reviews.is_spoiler==1].review_relevance.mean())\n",
    "# print(\"Mean recency (non-spoilers) =\",merged_df_reviews[merged_df_reviews.is_spoiler==0].review_relevance.mean())"
   ]
  },
  {
   "cell_type": "code",
   "execution_count": null,
   "metadata": {
    "id": "-wVH5PQ_NOHo"
   },
   "outputs": [],
   "source": [
    "# genre_names = np.unique(np.array(' '.join(df_details.genre.str.join(' ')).split()))\n",
    "# print(genre_names)"
   ]
  },
  {
   "cell_type": "code",
   "execution_count": null,
   "metadata": {
    "id": "_Ive8OpGNQ6Z"
   },
   "outputs": [],
   "source": [
    "# df_genre = pd.DataFrame();\n",
    "# for genre in genre_names:\n",
    "#     df_genre[genre.lower()] = 0"
   ]
  },
  {
   "cell_type": "code",
   "execution_count": null,
   "metadata": {
    "id": "thqx9hvRNTA-"
   },
   "outputs": [],
   "source": [
    "# for index,row in df_details.iterrows():\n",
    "#     details = df_details[df_details.movie_id == row['movie_id']]\n",
    "#     df_genre.at[index,'movie_id'] = row['movie_id']\n",
    "#     for genre in genre_names:\n",
    "#         df_genre.at[index, genre.lower()] = int(genre in details['genre'].tolist()[0])"
   ]
  },
  {
   "cell_type": "code",
   "execution_count": null,
   "metadata": {
    "id": "ANRTqCp7NU27"
   },
   "outputs": [],
   "source": [
    "# df_reviews_temp = pd.merge(df_reviews, df_genre, on=\"movie_id\")"
   ]
  },
  {
   "cell_type": "code",
   "execution_count": null,
   "metadata": {
    "id": "kJ0DggePNXSh"
   },
   "outputs": [],
   "source": [
    "# e = 0.001\n",
    "# genre_spoiler_ratio = np.zeros(len(genre_names))\n",
    "# for i,g in enumerate(genre_names):\n",
    "#     genre_spoiler_ratio[i] = df_reviews_temp[(df_reviews_temp.is_spoiler==1) & (df_reviews_temp[g.lower()]==1)].shape[0] / (df_reviews_temp[df_reviews_temp[g.lower()]==1].shape[0]+e)"
   ]
  },
  {
   "cell_type": "code",
   "execution_count": null,
   "metadata": {
    "id": "asBFzNHZNcDt"
   },
   "outputs": [],
   "source": [
    "# ax = sns.barplot(x=genre_spoiler_ratio,y=genre_names)\n",
    "# ax.set(xlabel=\"Spoiler ratio\");\n",
    "# plt.show();"
   ]
  },
  {
   "cell_type": "code",
   "execution_count": null,
   "metadata": {
    "id": "0bJCmYw8NeTm"
   },
   "outputs": [],
   "source": [
    "# e = 0.001\n",
    "# selected = [\"Action\",\"Adventure\",\"Fantasy\",\"Horror\",\"Mystery\",\"Sci-Fi\",\"Thriller\"]\n",
    "\n",
    "# genre_2_labels = []\n",
    "# genre_2_ratios = []\n",
    "\n",
    "# i=0\n",
    "# while i < len(selected):\n",
    "#     j = i+1\n",
    "#     while j < len(selected):\n",
    "#         genre_2_labels.append(selected[i]+\"+\"+selected[j])\n",
    "#         spoilers = df_reviews_temp[(df_reviews_temp[selected[i].lower()]==1) & (df_reviews_temp[selected[j].lower()]==1) & df_reviews_temp.is_spoiler].shape[0]\n",
    "#         total = df_reviews_temp[(df_reviews_temp[selected[i].lower()]==1) & (df_reviews_temp[selected[j].lower()]==1)].shape[0]\n",
    "#         genre_2_ratios.append(spoilers / (total+e))\n",
    "#         j+=1\n",
    "#     i+=1\n",
    "    \n",
    "# ax = sns.barplot(x=genre_2_ratios,y=genre_2_labels)\n",
    "# ax.set(xlabel=\"Spoiler ratio\");\n",
    "# plt.show();"
   ]
  },
  {
   "cell_type": "code",
   "execution_count": null,
   "metadata": {
    "id": "Nnp3K6piNiaB"
   },
   "outputs": [],
   "source": [
    "# def isListSubset(a,b):\n",
    "#     count = 0\n",
    "#     for i,v in enumerate(a):\n",
    "#         if v in b:\n",
    "#             count += 1\n",
    "#     return count == len(a)\n",
    "\n",
    "# def getGenreRatio(genres):\n",
    "#     return isListSubset([\"Fantasy\",\"Sci-Fi\"], genres) or isListSubset([\"Adventure\",\"Mystery\"], genres) or isListSubset([\"Action\",\"Mystery\",\"Sci-Fi\"], genres) or isListSubset([\"Adventure\",\"Horror\",\"Thriller\"], genres) or isListSubset([\"Adventure\",\"Thriller\"], genres) or isListSubset([\"Fantasy\",\"Mystery\"], genres)\n"
   ]
  },
  {
   "cell_type": "code",
   "execution_count": null,
   "metadata": {
    "id": "L4APKtP_NmtJ"
   },
   "outputs": [],
   "source": [
    "# df_reviews['genre_spoiler_ratio'] = pd.merge(df_reviews,df_details,on=\"movie_id\").genre.apply(getGenreRatio)+0"
   ]
  },
  {
   "cell_type": "code",
   "execution_count": null,
   "metadata": {
    "id": "dIWFeRiGNvW1"
   },
   "outputs": [],
   "source": [
    "# sns.boxplot(x=df_reviews.is_spoiler,y=df_reviews.rating);"
   ]
  },
  {
   "cell_type": "code",
   "execution_count": null,
   "metadata": {
    "id": "AboUTjL6NyR_"
   },
   "outputs": [],
   "source": [
    "# nltk.download('stopwords')\n",
    "# stopwords = set(stopwords.words('english'))\n",
    "# stopwords_dict = Counter(stopwords)\n",
    "\n",
    "# def preprocess_text(review):\n",
    "#     review = review.lower() # Convert to lowercase\n",
    "#     review = re.sub('[^a-zA-Z]',' ', review) # Remove words with non-letter characters\n",
    "#     words = review.split()\n",
    "#     words = [word for word in words if word not in stopwords_dict] # Remove stop words\n",
    "#     review = \" \".join(words)\n",
    "#     return review"
   ]
  },
  {
   "cell_type": "code",
   "execution_count": null,
   "metadata": {
    "id": "ul2SGq3_N1Bo"
   },
   "outputs": [],
   "source": [
    "# df_reviews.review_text = df_reviews.review_text.apply(preprocess_text)"
   ]
  },
  {
   "cell_type": "code",
   "execution_count": null,
   "metadata": {
    "id": "ulNj9g76N32c"
   },
   "outputs": [],
   "source": [
    "# S3_GLOVE = 'https://ready2bool-spoileralert-hackgt.s3.amazonaws.com/glove.6B.50d.txt'\n",
    "# glove_path = os.path.join(\"datasets\", \"glove\")\n",
    "# if not os.path.isdir(glove_path):\n",
    "#   os.makedirs(glove_path)\n",
    "# txt_file = os.path.join(glove_path,'glove.6B.50d.txt')\n",
    "# urllib.request.urlretrieve(S3_GLOVE, txt_file)\n",
    "\n",
    "# embeddings_index = dict()\n",
    "# f = open(txt_file)\n",
    "# for line in f:\n",
    "#     values = line.split()\n",
    "#     word = values[0]\n",
    "#     coefs = np.asarray(values[1:], dtype='float32')\n",
    "#     embeddings_index[word] = coefs\n",
    "# f.close()"
   ]
  },
  {
   "cell_type": "code",
   "execution_count": null,
   "metadata": {
    "id": "q8O8foe5N6UC"
   },
   "outputs": [],
   "source": [
    "# def getAverageWordEmbedding(text):\n",
    "#     words = text.split()\n",
    "#     n = 0\n",
    "#     sumEmbed = np.zeros(50)\n",
    "    \n",
    "#     for word in words:\n",
    "#         if word in embeddings_index:\n",
    "#             sumEmbed += embeddings_index[word]\n",
    "#             n += 1\n",
    "    \n",
    "#     avgEmbed = sumEmbed / n\n",
    "#     return avgEmbed\n",
    "    \n",
    "# def EuclideanDist(e1, e2):\n",
    "#     return np.sum(np.square(e1-e2), axis = 1)"
   ]
  },
  {
   "cell_type": "code",
   "execution_count": null,
   "metadata": {
    "id": "_zwGZf1ON9vo"
   },
   "outputs": [],
   "source": [
    "# plot_review_merge = pd.merge(df_reviews, df_details[['movie_id','plot_summary']], on = 'movie_id')\n",
    "# review_embed = plot_review_merge.review_text.apply(getAverageWordEmbedding)\n",
    "# plot_embed = plot_review_merge.plot_summary.apply(getAverageWordEmbedding)"
   ]
  },
  {
   "cell_type": "code",
   "execution_count": null,
   "metadata": {
    "id": "cr7fObWVOAnO"
   },
   "outputs": [],
   "source": [
    "# euclideans = EuclideanDist(np.stack(review_embed), np.stack(plot_embed))"
   ]
  },
  {
   "cell_type": "code",
   "execution_count": null,
   "metadata": {
    "id": "aO__LTg_OC6Y"
   },
   "outputs": [],
   "source": [
    "# plot_review_merge['euclideans'] = euclideans\n",
    "\n",
    "# df_temp = pd.DataFrame({\"label\":[\"spoiler\", \"non spoiler\"], \n",
    "#                         \"euclidean_dist\":[plot_review_merge[plot_review_merge.is_spoiler==1].euclideans.mean(), \n",
    "#                                             plot_review_merge[plot_review_merge.is_spoiler==0].euclideans.mean()]})\n",
    "# sns.barplot(x = \"label\", y = \"euclidean_dist\", data = df_temp);"
   ]
  },
  {
   "cell_type": "code",
   "execution_count": null,
   "metadata": {
    "id": "aMWR3c0nOFzH"
   },
   "outputs": [],
   "source": [
    "# x = df_reviews[['movie_spoiler_ratio','user_spoiler_ratio','genre_spoiler_ratio','rating']]\n",
    "# x['euclideans'] = euclideans\n",
    "# x = x.fillna(0)"
   ]
  },
  {
   "cell_type": "code",
   "execution_count": null,
   "metadata": {
    "id": "JJ3kkhowOIVy"
   },
   "outputs": [],
   "source": [
    "# model_svm = svm.SVC(gamma='scale',C=10)\n",
    "# model_svm.fit(x, df_reviews.is_spoiler)"
   ]
  },
  {
   "cell_type": "code",
   "execution_count": null,
   "metadata": {
    "id": "2xq3iNRdOPcF"
   },
   "outputs": [],
   "source": [
    "# predictions = model_svm.predict(x)"
   ]
  },
  {
   "cell_type": "code",
   "execution_count": null,
   "metadata": {
    "id": "SaiyiFscOVVk"
   },
   "outputs": [],
   "source": [
    "# print(classification_report(df_reviews.is_spoiler, predictions))\n",
    "# print(confusion_matrix(df_reviews.is_spoiler, predictions))"
   ]
  },
  {
   "cell_type": "code",
   "execution_count": null,
   "metadata": {
    "id": "hcQKjEcqOYHA"
   },
   "outputs": [],
   "source": [
    "# # user_spoiler_ratio\n",
    "# test1 = pd.merge(test, user_spoiler_ratio, how = 'left', on = 'user_id')\n",
    "\n",
    "# # movie_spoiler_ratio\n",
    "# test1 = pd.merge(test1, df_ratio, how = 'left', on = 'movie_id')\n",
    "\n",
    "# # genre_spoiler_ratio\n",
    "# test1['genre_spoiler_ratio'] = pd.merge(test1, df_details,on=\"movie_id\").genre.apply(getGenreRatio)+0\n",
    "\n",
    "# # euclidean distances between review and plot\n",
    "# test1.review_text = test1.review_text.apply(preprocess_text)\n",
    "# plot_review_merge_test = pd.merge(test1, df_details[['movie_id','plot_summary']], on = 'movie_id')\n",
    "# review_embed_test = plot_review_merge_test.review_text.apply(getAverageWordEmbedding)\n",
    "# plot_embed_test = plot_review_merge_test.plot_summary.apply(getAverageWordEmbedding)\n",
    "# test1['euclideans'] = EuclideanDist(np.stack(review_embed_test), np.stack(plot_embed_test))"
   ]
  },
  {
   "cell_type": "code",
   "execution_count": null,
   "metadata": {
    "id": "41foSI9ZOccn"
   },
   "outputs": [],
   "source": [
    "# x_test = test1[['movie_spoiler_ratio','user_spoiler_ratio','genre_spoiler_ratio','euclideans','rating']]\n",
    "# x_test = x_test.fillna(0)"
   ]
  },
  {
   "cell_type": "code",
   "execution_count": null,
   "metadata": {
    "id": "Op3ormuqOfW2"
   },
   "outputs": [],
   "source": [
    "# predictions_new = model_svm.predict(x_test)"
   ]
  },
  {
   "cell_type": "code",
   "execution_count": null,
   "metadata": {
    "id": "yrEqciBIOiHG"
   },
   "outputs": [],
   "source": [
    "# print(classification_report(test1.is_spoiler, predictions_new))\n",
    "# print(confusion_matrix(test1.is_spoiler, predictions_new))\n",
    "# print(x_test)"
   ]
  },
  {
   "cell_type": "code",
   "execution_count": null,
   "metadata": {
    "id": "mDWX-vZmZkYa"
   },
   "outputs": [],
   "source": [
    "# from sklearn.ensemble import RandomForestClassifier\n",
    "# forest = RandomForestClassifier()\n",
    "# forest.fit(x, df_reviews.is_spoiler)\n",
    "# predictions_forest = forest.predict(x_test)"
   ]
  },
  {
   "cell_type": "code",
   "execution_count": null,
   "metadata": {
    "id": "GdAWgqDGZi9v"
   },
   "outputs": [],
   "source": [
    "# print(classification_report(test1.is_spoiler, predictions_forest))\n",
    "# print(confusion_matrix(test1.is_spoiler, predictions_forest))"
   ]
  },
  {
   "cell_type": "code",
   "execution_count": null,
   "metadata": {
    "id": "1aOIByQNJcc7"
   },
   "outputs": [],
   "source": []
  }
 ],
 "metadata": {
  "colab": {
   "collapsed_sections": [],
   "name": "HackGT.ipynb",
   "provenance": []
  },
  "kernelspec": {
   "display_name": "Python 3",
   "language": "python",
   "name": "python3"
  },
  "language_info": {
   "codemirror_mode": {
    "name": "ipython",
    "version": 3
   },
   "file_extension": ".py",
   "mimetype": "text/x-python",
   "name": "python",
   "nbconvert_exporter": "python",
   "pygments_lexer": "ipython3",
   "version": "3.6.9"
  }
 },
 "nbformat": 4,
 "nbformat_minor": 1
}
